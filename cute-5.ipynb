{
 "cells": [
  {
   "cell_type": "code",
   "execution_count": 1,
   "metadata": {},
   "outputs": [
    {
     "name": "stderr",
     "output_type": "stream",
     "text": [
      "Using TensorFlow backend.\n"
     ]
    }
   ],
   "source": [
    "# Import the necessary libraries, modules\n",
    "import pandas as pd # Pandas library for reading '.csv' files as dataframes\n",
    "import numpy as np # Numpy library for creating and modifying arrays.\n",
    "from keras.layers import Dense, LSTM, Embedding # Import layers from Keras\n",
    "from keras.models import Sequential"
   ]
  },
  {
   "cell_type": "code",
   "execution_count": 2,
   "metadata": {},
   "outputs": [
    {
     "name": "stdout",
     "output_type": "stream",
     "text": [
      "(57280, 3)\n",
      "Index(['field', 'categories', 'converse'], dtype='object')\n",
      "\n",
      "\n",
      "   field     categories                                           converse\n",
      "0      0   PRESCRIPTION  patients aware that he needs rov for refill na...\n",
      "1      1   ASK_A_DOCTOR  mom wants to know if the drugname needs some d...\n",
      "2      2   ASK_A_DOCTOR  patients to discuss drugname she says she has ...\n",
      "3      3  MISCELLANEOUS  fyi nortryptline medication patient prescripti...\n",
      "4      4  MISCELLANEOUS  letter of patient establishment request name s...\n"
     ]
    }
   ],
   "source": [
    "raw_data = pd.read_csv('data.csv', encoding='latin-1') # Read the data as a DataFrame using Pandas\n",
    "#raw_test_data = pd.read_csv('test.csv', encoding='latin-1')\n",
    "\n",
    "print(raw_data.shape) # Print the dimensions of train DataFrame\n",
    "print(raw_data.columns) # Print the column names of the DataFrame\n",
    "print('\\n')\n",
    "print(raw_data.head(5)) # Print the top few records"
   ]
  },
  {
   "cell_type": "code",
   "execution_count": 3,
   "metadata": {},
   "outputs": [
    {
     "data": {
      "text/plain": [
       "field          0\n",
       "categories     0\n",
       "converse      36\n",
       "dtype: int64"
      ]
     },
     "execution_count": 3,
     "metadata": {},
     "output_type": "execute_result"
    }
   ],
   "source": [
    "raw_data.isnull().sum()"
   ]
  },
  {
   "cell_type": "code",
   "execution_count": 4,
   "metadata": {
    "collapsed": true
   },
   "outputs": [],
   "source": [
    "raw_data = raw_data.dropna(axis = 0,how = 'any')\n",
    "#df.dropna(axis=1, how='any')"
   ]
  },
  {
   "cell_type": "code",
   "execution_count": 5,
   "metadata": {},
   "outputs": [
    {
     "name": "stdout",
     "output_type": "stream",
     "text": [
      "<class 'pandas.core.frame.DataFrame'>\n",
      "Int64Index: 57244 entries, 0 to 57279\n",
      "Data columns (total 3 columns):\n",
      "field         57244 non-null int64\n",
      "categories    57244 non-null object\n",
      "converse      57244 non-null object\n",
      "dtypes: int64(1), object(2)\n",
      "memory usage: 1.7+ MB\n"
     ]
    }
   ],
   "source": [
    "raw_data.info()"
   ]
  },
  {
   "cell_type": "code",
   "execution_count": 6,
   "metadata": {},
   "outputs": [
    {
     "name": "stdout",
     "output_type": "stream",
     "text": [
      "['APPOINTMENTS' 'ASK_A_DOCTOR' 'JUNK' 'LAB' 'MISCELLANEOUS' 'PRESCRIPTION']\n",
      "[13870 11800    10  4321 12147 15096]\n"
     ]
    }
   ],
   "source": [
    "# Print the unique classes and their counts/frequencies\n",
    "classes = np.unique(raw_data['categories'], return_counts=True) # np.unique returns a tuple with class names and counts\n",
    "print(classes[0]) #Print the list of unique classes\n",
    "print(classes[1]) #Print the list of frequencies of the above classes"
   ]
  },
  {
   "cell_type": "code",
   "execution_count": null,
   "metadata": {
    "collapsed": true
   },
   "outputs": [],
   "source": []
  },
  {
   "cell_type": "code",
   "execution_count": 18,
   "metadata": {},
   "outputs": [
    {
     "name": "stdout",
     "output_type": "stream",
     "text": [
      "646\n"
     ]
    }
   ],
   "source": [
    "\n",
    "l = 0\n",
    "m = 0\n",
    "for i in x_train:\n",
    "    l = len(i)\n",
    "    if(l > m):\n",
    "        m = l;\n",
    "print(m)\n",
    "\n",
    "\n",
    "#max([for i in len(x_train)len(xtrain[i])])"
   ]
  },
  {
   "cell_type": "code",
   "execution_count": 20,
   "metadata": {},
   "outputs": [
    {
     "data": {
      "text/plain": [
       "(57244, 650)"
      ]
     },
     "execution_count": 20,
     "metadata": {},
     "output_type": "execute_result"
    }
   ],
   "source": [
    "from keras.preprocessing.text import Tokenizer\n",
    "from keras.preprocessing.sequence import pad_sequences\n",
    "\n",
    "tokenizer = Tokenizer(num_words=10000) #Tokenizer is used to tokenize text\n",
    "tokenizer.fit_on_texts(raw_data.converse) #Fit this to our corpus\n",
    "\n",
    "x_train = tokenizer.texts_to_sequences(raw_data.converse) #'text to sequences converts the text to a list of indices\n",
    "x_train = pad_sequences(x_train, maxlen=650) #pad_sequences makes every sequence a fixed size list by padding with 0s \n",
    "#x_test = tokenizer.texts_to_sequences(raw_test_data.converse) \n",
    "#x_test = pad_sequences(x_test, maxlen=50)\n",
    "\n",
    "x_train.shape  # Check the dimensions of x_train and x_test \n"
   ]
  },
  {
   "cell_type": "code",
   "execution_count": 22,
   "metadata": {},
   "outputs": [],
   "source": [
    "#x_train[1]"
   ]
  },
  {
   "cell_type": "code",
   "execution_count": 23,
   "metadata": {
    "collapsed": true
   },
   "outputs": [],
   "source": [
    "from keras.utils.np_utils import to_categorical # This convers the categories to one-hot vectors(Dummies)\n",
    "\n",
    "unique_labels = list(raw_data.categories.unique()) \n",
    "y_train = np.array([unique_labels.index(i) for i in raw_data.categories]) # Convert the word labels to indeces\n",
    "y_train = to_categorical(y_train) # Dummify the labels"
   ]
  },
  {
   "cell_type": "code",
   "execution_count": 28,
   "metadata": {},
   "outputs": [
    {
     "data": {
      "text/plain": [
       "(57244, 6)"
      ]
     },
     "execution_count": 28,
     "metadata": {},
     "output_type": "execute_result"
    }
   ],
   "source": [
    "y_train.shape"
   ]
  },
  {
   "cell_type": "code",
   "execution_count": 27,
   "metadata": {
    "collapsed": true
   },
   "outputs": [],
   "source": [
    "import keras.backend as K # This 'K' can be used to create user defined functions in keras\n",
    "\n",
    "# Define a custom function in keras to compute recall.\n",
    "# Arguments:\n",
    "# y_true - Actual labels\n",
    "# y_pred - Predicted labels\n",
    "def recall(y_true, y_pred):\n",
    "    TP = K.sum(K.round(K.clip(y_true * y_pred, 0, 1)))\n",
    "    PP = K.sum(K.round(K.clip(y_true, 0, 1)))\n",
    "    recall = TP / (PP + K.epsilon())\n",
    "    return recall"
   ]
  },
  {
   "cell_type": "code",
   "execution_count": null,
   "metadata": {
    "collapsed": true
   },
   "outputs": [],
   "source": []
  },
  {
   "cell_type": "code",
   "execution_count": 29,
   "metadata": {
    "collapsed": true
   },
   "outputs": [],
   "source": [
    "# Building an LSTM model\n",
    "model = Sequential() # Call Sequential to initialize a network\n",
    "model.add(Embedding(input_dim=len(tokenizer.word_index), \n",
    "                    input_length=650, \n",
    "                    output_dim=100)) # Add an embedding layer which represents each unique token as a vector\n",
    "model.add(LSTM(10, return_sequences=False)) # Add an LSTM layer\n",
    "model.add(Dense(6, activation='softmax')) # Add an ouput layer. Since classification, 3 nodes for 3 classes."
   ]
  },
  {
   "cell_type": "code",
   "execution_count": 30,
   "metadata": {},
   "outputs": [
    {
     "name": "stdout",
     "output_type": "stream",
     "text": [
      "Train on 42933 samples, validate on 14311 samples\n",
      "Epoch 1/1\n",
      "42933/42933 [==============================] - 571s 13ms/step - loss: 0.9614 - acc: 0.6558 - recall: 0.5201 - val_loss: 0.9797 - val_acc: 0.6684 - val_recall: 0.5825\n"
     ]
    },
    {
     "data": {
      "text/plain": [
       "<keras.callbacks.History at 0xd7a1320>"
      ]
     },
     "execution_count": 30,
     "metadata": {},
     "output_type": "execute_result"
    }
   ],
   "source": [
    "# Mention the optimizer, Loss function and metrics to be computed\n",
    "model.compile(optimizer='adam',  # 'Adam' is a variant of gradient descent technique\n",
    "              loss='categorical_crossentropy', # categorical_crossentropy for multi-class classification\n",
    "              metrics=['accuracy', recall]) # These metrics are computed and printed for evaluating\n",
    "\n",
    "model.fit(x_train, y_train, epochs=1, validation_split=0.25)"
   ]
  },
  {
   "cell_type": "code",
   "execution_count": 31,
   "metadata": {},
   "outputs": [
    {
     "ename": "ValueError",
     "evalue": "operands could not be broadcast together with shapes (57244,650) (57244,6) ",
     "output_type": "error",
     "traceback": [
      "\u001b[1;31m---------------------------------------------------------------------------\u001b[0m",
      "\u001b[1;31mValueError\u001b[0m                                Traceback (most recent call last)",
      "\u001b[1;32m<ipython-input-31-47fcb049dd21>\u001b[0m in \u001b[0;36m<module>\u001b[1;34m()\u001b[0m\n\u001b[1;32m----> 1\u001b[1;33m \u001b[0mrecall\u001b[0m\u001b[1;33m(\u001b[0m\u001b[0mx_train\u001b[0m\u001b[1;33m,\u001b[0m\u001b[0my_train\u001b[0m\u001b[1;33m)\u001b[0m\u001b[1;33m\u001b[0m\u001b[0m\n\u001b[0m",
      "\u001b[1;32m<ipython-input-27-0c8ce6e519f0>\u001b[0m in \u001b[0;36mrecall\u001b[1;34m(y_true, y_pred)\u001b[0m\n\u001b[0;32m      6\u001b[0m \u001b[1;31m# y_pred - Predicted labels\u001b[0m\u001b[1;33m\u001b[0m\u001b[1;33m\u001b[0m\u001b[0m\n\u001b[0;32m      7\u001b[0m \u001b[1;32mdef\u001b[0m \u001b[0mrecall\u001b[0m\u001b[1;33m(\u001b[0m\u001b[0my_true\u001b[0m\u001b[1;33m,\u001b[0m \u001b[0my_pred\u001b[0m\u001b[1;33m)\u001b[0m\u001b[1;33m:\u001b[0m\u001b[1;33m\u001b[0m\u001b[0m\n\u001b[1;32m----> 8\u001b[1;33m     \u001b[0mTP\u001b[0m \u001b[1;33m=\u001b[0m \u001b[0mK\u001b[0m\u001b[1;33m.\u001b[0m\u001b[0msum\u001b[0m\u001b[1;33m(\u001b[0m\u001b[0mK\u001b[0m\u001b[1;33m.\u001b[0m\u001b[0mround\u001b[0m\u001b[1;33m(\u001b[0m\u001b[0mK\u001b[0m\u001b[1;33m.\u001b[0m\u001b[0mclip\u001b[0m\u001b[1;33m(\u001b[0m\u001b[0my_true\u001b[0m \u001b[1;33m*\u001b[0m \u001b[0my_pred\u001b[0m\u001b[1;33m,\u001b[0m \u001b[1;36m0\u001b[0m\u001b[1;33m,\u001b[0m \u001b[1;36m1\u001b[0m\u001b[1;33m)\u001b[0m\u001b[1;33m)\u001b[0m\u001b[1;33m)\u001b[0m\u001b[1;33m\u001b[0m\u001b[0m\n\u001b[0m\u001b[0;32m      9\u001b[0m     \u001b[0mPP\u001b[0m \u001b[1;33m=\u001b[0m \u001b[0mK\u001b[0m\u001b[1;33m.\u001b[0m\u001b[0msum\u001b[0m\u001b[1;33m(\u001b[0m\u001b[0mK\u001b[0m\u001b[1;33m.\u001b[0m\u001b[0mround\u001b[0m\u001b[1;33m(\u001b[0m\u001b[0mK\u001b[0m\u001b[1;33m.\u001b[0m\u001b[0mclip\u001b[0m\u001b[1;33m(\u001b[0m\u001b[0my_true\u001b[0m\u001b[1;33m,\u001b[0m \u001b[1;36m0\u001b[0m\u001b[1;33m,\u001b[0m \u001b[1;36m1\u001b[0m\u001b[1;33m)\u001b[0m\u001b[1;33m)\u001b[0m\u001b[1;33m)\u001b[0m\u001b[1;33m\u001b[0m\u001b[0m\n\u001b[0;32m     10\u001b[0m     \u001b[0mrecall\u001b[0m \u001b[1;33m=\u001b[0m \u001b[0mTP\u001b[0m \u001b[1;33m/\u001b[0m \u001b[1;33m(\u001b[0m\u001b[0mPP\u001b[0m \u001b[1;33m+\u001b[0m \u001b[0mK\u001b[0m\u001b[1;33m.\u001b[0m\u001b[0mepsilon\u001b[0m\u001b[1;33m(\u001b[0m\u001b[1;33m)\u001b[0m\u001b[1;33m)\u001b[0m\u001b[1;33m\u001b[0m\u001b[0m\n",
      "\u001b[1;31mValueError\u001b[0m: operands could not be broadcast together with shapes (57244,650) (57244,6) "
     ]
    }
   ],
   "source": [
    "recall(x_train,y_train)"
   ]
  },
  {
   "cell_type": "code",
   "execution_count": null,
   "metadata": {
    "collapsed": true
   },
   "outputs": [],
   "source": []
  }
 ],
 "metadata": {
  "kernelspec": {
   "display_name": "Python 3",
   "language": "python",
   "name": "python3"
  },
  "language_info": {
   "codemirror_mode": {
    "name": "ipython",
    "version": 3
   },
   "file_extension": ".py",
   "mimetype": "text/x-python",
   "name": "python",
   "nbconvert_exporter": "python",
   "pygments_lexer": "ipython3",
   "version": "3.6.1"
  }
 },
 "nbformat": 4,
 "nbformat_minor": 2
}
